{
 "cells": [
  {
   "cell_type": "markdown",
   "metadata": {},
   "source": [
    "## Properties\n",
    "number, shape, color, fill\n",
    "\n",
    "numbers = 1, 2, 3\n",
    "\n",
    "shape = diamond, oval, squiggle\n",
    "\n",
    "color = purple, green, red\n",
    "\n",
    "fill = empty, striped, solid"
   ]
  },
  {
   "cell_type": "markdown",
   "metadata": {},
   "source": [
    "# Approaches/Ideas\n",
    "1. store each card by properties (there is only one of each card), then compare them based on the attributes you know them to have (might be the same speed)\n",
    "2. tbh the above doesn't really make sense LMAO so just have each card with its four properties\n",
    "3. use bfs or dfs??? recursive backtracking??\n",
    "4. calculate probabilities of various set matchings to determine the ordering of checking for them?\n",
    "5. look at number of items in each one and from there can check those first if they have an adequate number to form a set before moving on to some of the other more complicated configurations"
   ]
  },
  {
   "cell_type": "markdown",
   "metadata": {},
   "source": [
    "## Current vs. Future\n",
    "\n",
    "for now, just take each set of cards as an individual thing (reload and evaluate everything you have in the given table)\n",
    "\n",
    "in the future, can perhaps cache the cards that remain on the table, cuz there may be relationships between them, and then u don't have to recalculate everything everytime"
   ]
  }
 ],
 "metadata": {
  "language_info": {
   "name": "python"
  }
 },
 "nbformat": 4,
 "nbformat_minor": 2
}
