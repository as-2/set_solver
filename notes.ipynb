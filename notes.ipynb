{
 "cells": [
  {
   "cell_type": "markdown",
   "metadata": {},
   "source": [
    "## Properties\n",
    "number, shape, color, fill\n",
    "\n",
    "numbers = one, two, three\n",
    "\n",
    "shape = diamond, oval, squiggle\n",
    "\n",
    "color = purple, green, red\n",
    "\n",
    "fill = empty, striped, solid"
   ]
  },
  {
   "cell_type": "markdown",
   "metadata": {},
   "source": [
    "# Approaches/Ideas\n",
    "1. store each card by properties (there is only one of each card), then compare them based on the attributes you know them to have (might be the same speed)\n",
    "2. tbh the above doesn't really make sense LMAO so just have each card with its four properties\n",
    "3. use bfs or dfs??? recursive backtracking?? tbh don't think any of these will be useful cuz i'm evaluating individual triples of cards rather than traveling down a graph or something\n",
    "4. calculate probabilities of various set matchings to determine the ordering of checking for them?\n",
    "5. look at number of items in each one and from there can check those first if they have an adequate number to form a set before moving on to some of the other more complicated configurations\n",
    "\n",
    "6. have all possible triple combinations and then check if any of them create a valid set (using rule stuff)"
   ]
  },
  {
   "cell_type": "markdown",
   "metadata": {},
   "source": [
    "## Current vs. Future\n",
    "\n",
    "for now, just take each set of cards as an individual thing (reload and evaluate everything you have in the given table)\n",
    "\n",
    "in the future, can perhaps cache the cards that remain on the table, cuz there may be relationships between them, and then u don't have to recalculate everything everytime"
   ]
  },
  {
   "cell_type": "markdown",
   "metadata": {},
   "source": [
    "### Random brain thoughts\n",
    "- when comparing if a set is in the solution set, sort them first, then compare so that they have the same order\n",
    "- BRO LOOK AT SAT SOLVER AND THE BACKTRACKING READING CUZ THAT WILL BE SO USEFUL OMG...maybe HAHA\n",
    "- look into OpenCV!!\n",
    "- started using 'itertools'...see if there's anything else in there that's potentially useful"
   ]
  },
  {
   "cell_type": "markdown",
   "metadata": {},
   "source": [
    "## Different valid combinations\n",
    "rule things for SAT solver in boolean logic\n",
    "\n",
    "```\n",
    "diff_number = ()\n",
    "same_number = ()\n",
    "rule_number = (diff_number or same_number) and (not diff_number or not same_number)\n",
    "\n",
    "diff_shape = ()\n",
    "same_shape = ()\n",
    "rule_shape = (diff_shape or same_shape) and (not diff_shape or not same_shape)\n",
    "\n",
    "diff_color = ()\n",
    "same_color = ()\n",
    "rule_color = (diff_color or same_color) and (not diff_color or not same_color)\n",
    "\n",
    "diff_fill = ()\n",
    "same_fill = ()\n",
    "rule_fill = (diff_fill or same_fill) and (not diff_fill or not same_fill)\n",
    "\n",
    "validity = rule_number and rule_shape and rule_color and rule_fill\n",
    "```\n"
   ]
  }
 ],
 "metadata": {
  "language_info": {
   "name": "python"
  }
 },
 "nbformat": 4,
 "nbformat_minor": 2
}
